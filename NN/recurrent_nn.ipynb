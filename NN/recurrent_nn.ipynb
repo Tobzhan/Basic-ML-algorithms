{
 "cells": [
  {
   "cell_type": "code",
   "execution_count": 256,
   "metadata": {},
   "outputs": [],
   "source": [
    "import numpy as np\n",
    "import pandas as pd\n",
    "import matplotlib.pyplot as plt\n",
    "\n",
    "import torch, torch.nn as nn\n",
    "from torch.utils.data import DataLoader, Dataset, Subset\n",
    "import torch.nn.functional as F\n",
    " \n",
    "assert torch.__version__ != None, \"Pytorch is not working correctly\""
   ]
  },
  {
   "cell_type": "markdown",
   "metadata": {},
   "source": [
    "# Recurrent neural network\n",
    "One of the way to work with the sequences without fixed size is RNN. The main idea - divide sequence into tokens(parts) and give it to nn that is recurrently using its output again in input saving context as matrix $h$, in other words - captures information about the sequence seen so far. \n",
    "Often they suffer from the vanishing or exploding gradient problem"
   ]
  },
  {
   "cell_type": "code",
   "execution_count": 257,
   "metadata": {},
   "outputs": [],
   "source": [
    "import requests\n",
    "\n",
    "# Using requests to get dataset and save it\n",
    "url = 'https://raw.githubusercontent.com/girafe-ai/ml-course/22f_basic/week0_09_embeddings_and_seq2seq/names'\n",
    "response = requests.get(url)\n",
    "\n",
    "with open('names', 'wb') as file:\n",
    "    file.write(response.content)"
   ]
  },
  {
   "cell_type": "code",
   "execution_count": 258,
   "metadata": {},
   "outputs": [
    {
     "name": "stdout",
     "output_type": "stream",
     "text": [
      "total_samples = 7944, type = <class 'list'>\n",
      " Abagael\n",
      " Claresta\n",
      " Glory\n",
      " Liliane\n",
      " Prissie\n",
      " Geeta\n",
      " Giovanne\n",
      " Piggy\n"
     ]
    }
   ],
   "source": [
    "import os\n",
    "start_token = \" \"\n",
    "\n",
    "# Converting data from names.txt to list in python\n",
    "with open(\"names\") as f:\n",
    "    names = f.read()[:-1].split('\\n')\n",
    "    names = [start_token + line for line in names]\n",
    "\n",
    "# Overall information\n",
    "print ('total_samples = {}, type = {}'.format(len(names), type(names)))\n",
    "\n",
    "# Printing every 1000th name\n",
    "for x in names[::1000]:\n",
    "    print (x)"
   ]
  },
  {
   "cell_type": "code",
   "execution_count": 259,
   "metadata": {},
   "outputs": [
    {
     "name": "stdout",
     "output_type": "stream",
     "text": [
      "max length = 16\n"
     ]
    },
    {
     "data": {
      "image/png": "[encoded data removed]",
      "text/plain": [
       "<Figure size 640x480 with 1 Axes>"
      ]
     },
     "metadata": {},
     "output_type": "display_data"
    }
   ],
   "source": [
    "MAX_LENGTH = max(map(len, names))\n",
    "print(\"max length =\", MAX_LENGTH)\n",
    "\n",
    "plt.title('Sequence length distribution')\n",
    "plt.hist(list(map(len, names)),bins=25);"
   ]
  },
  {
   "cell_type": "markdown",
   "metadata": {},
   "source": [
    "Our task here is to predict token with condition that we have already seen some numbers of tokens. Our tokens here - letters, symbols.\n",
    "We have symbols like (-,) because there are names like Sho-Den and etc."
   ]
  },
  {
   "cell_type": "code",
   "execution_count": 260,
   "metadata": {},
   "outputs": [
    {
     "name": "stdout",
     "output_type": "stream",
     "text": [
      "{'p', 'S', 'd', 'Z', 'H', 'g', 'n', 'l', 'q', 'f', 's', 'X', 'v', 'K', 'a', 'I', 'r', 'C', 'w', 'h', 'F', 'A', 'V', 'B', 'e', 'O', 'P', 'k', 'U', '-', 'i', 'y', 'u', 'm', 't', 'z', 'c', 'M', 'Q', 'N', 'R', 'L', 'o', 'E', \"'\", ' ', 'D', 'G', 'j', 'b', 'x', 'J', 'T', 'W', 'Y'}\n",
      "num_tokens =  55\n"
     ]
    }
   ],
   "source": [
    "#all unique characters go here\n",
    "tokens = set()\n",
    "for name in names:\n",
    "    for c in name:\n",
    "        tokens.add(c)\n",
    "\n",
    "print(tokens)\n",
    "tokens = list(tokens)\n",
    "\n",
    "num_tokens = len(tokens)\n",
    "print ('num_tokens = ', num_tokens)\n",
    "\n",
    "assert 50 < num_tokens < 60, \"Names should contain within 50 and 60 unique tokens depending on encoding\""
   ]
  },
  {
   "cell_type": "markdown",
   "metadata": {},
   "source": [
    "# Convert characters to integers\n",
    "Torch can work only with numbers, so we need to convert our tokens into numbers: it will be our $TokenToId$"
   ]
  },
  {
   "cell_type": "markdown",
   "metadata": {},
   "source": [
    "Its good practice in NLP to use special tokens for start and end of sequence"
   ]
  },
  {
   "cell_type": "code",
   "execution_count": 261,
   "metadata": {},
   "outputs": [],
   "source": [
    "tokens.append('<') # <StartOfSequence>\n",
    "tokens.append('>') # <EndOfSequence>\n",
    "tokens.append('_') # <Padding>"
   ]
  },
  {
   "cell_type": "code",
   "execution_count": 262,
   "metadata": {},
   "outputs": [
    {
     "name": "stdout",
     "output_type": "stream",
     "text": [
      "{'p': 0, 'S': 1, 'd': 2, 'Z': 3, 'H': 4, 'g': 5, 'n': 6, 'l': 7, 'q': 8, 'f': 9, 's': 10, 'X': 11, 'v': 12, 'K': 13, 'a': 14, 'I': 15, 'r': 16, 'C': 17, 'w': 18, 'h': 19, 'F': 20, 'A': 21, 'V': 22, 'B': 23, 'e': 24, 'O': 25, 'P': 26, 'k': 27, 'U': 28, '-': 29, 'i': 30, 'y': 31, 'u': 32, 'm': 33, 't': 34, 'z': 35, 'c': 36, 'M': 37, 'Q': 38, 'N': 39, 'R': 40, 'L': 41, 'o': 42, 'E': 43, \"'\": 44, ' ': 45, 'D': 46, 'G': 47, 'j': 48, 'b': 49, 'x': 50, 'J': 51, 'T': 52, 'W': 53, 'Y': 54, '<': 55, '>': 56, '_': 57}\n",
      "Everything is fine\n"
     ]
    }
   ],
   "source": [
    "token_to_id = {token: idx for idx, token in enumerate(tokens)}\n",
    "assert len(tokens) == len(token_to_id), \"dictionaries must have same size\"\n",
    "\n",
    "for i in range(num_tokens):\n",
    "    assert token_to_id[tokens[i]] == i, \"token identifier must be it's position in tokens list\"\n",
    "\n",
    "print(token_to_id)\n",
    "print(\"Everything is fine\")"
   ]
  },
  {
   "cell_type": "markdown",
   "metadata": {},
   "source": [
    "Function below converts sequences into matrix representation like we take several number of sequences and enlarge them to determined length using pad-token. We need it in order for sequences to be the same size"
   ]
  },
  {
   "cell_type": "code",
   "execution_count": 263,
   "metadata": {},
   "outputs": [],
   "source": [
    "def to_matrix(names, max_len=None, pad=token_to_id['_'], dtype='int32', batch_first = True):\n",
    "    \"\"\"Casts a list of names into rnn-digestable matrix\"\"\"\n",
    "    \n",
    "    #Take max length among all sequences or determined max length\n",
    "    max_len = max_len or max(map(len, names))\n",
    "    max_len += 1\n",
    "    names_ix = np.zeros([len(names), max_len], dtype) + pad\n",
    "    # Adding token - start of sequence\n",
    "    names_ix[:, 0] = token_to_id['<']\n",
    "\n",
    "    for i in range(len(names)):\n",
    "        line_ix = [token_to_id[c] for c in names[i]]\n",
    "        names_ix[i, 1:len(line_ix)] = line_ix[1:]\n",
    "        # Adding token - end of sequence\n",
    "        names_ix[i, len(line_ix)] = token_to_id['>']\n",
    "    \n",
    "    # We need time here because order of tokens in sequence is very important\n",
    "    if not batch_first: # convert [batch, time] into [time, batch]\n",
    "        names_ix = np.transpose(names_ix)\n",
    "\n",
    "    return names_ix"
   ]
  },
  {
   "cell_type": "code",
   "execution_count": 264,
   "metadata": {},
   "outputs": [
    {
     "name": "stdout",
     "output_type": "stream",
     "text": [
      " Abagael\n",
      " Glory\n",
      " Prissie\n",
      " Giovanne\n",
      "[[55 21 49 14  5 14 24  7 56 57]\n",
      " [55 47  7 42 16 31 56 57 57 57]\n",
      " [55 26 16 30 10 10 30 24 56 57]\n",
      " [55 47 30 42 12 14  6  6 24 56]]\n",
      "[('<', 55), ('>', 56), ('_', 57)]\n"
     ]
    }
   ],
   "source": [
    "#Example: cast 4 random names to matrices, pad with zeros\n",
    "print('\\n'.join(names[::2000]))\n",
    "print(to_matrix(names[::2000]))\n",
    "print([(i, token_to_id[i]) for i in ('<','>','_')])"
   ]
  },
  {
   "cell_type": "markdown",
   "metadata": {},
   "source": [
    "We can see that our sequences are starting with 55 - start of sequence and ending either with 57 or 56 according to if the name is takes the whole length or not"
   ]
  },
  {
   "cell_type": "code",
   "execution_count": 265,
   "metadata": {},
   "outputs": [
    {
     "data": {
      "text/plain": [
       "<matplotlib.collections.QuadMesh at 0x20492765810>"
      ]
     },
     "execution_count": 265,
     "metadata": {},
     "output_type": "execute_result"
    },
    {
     "data": {
      "image/png": "[encoded data removed]",
      "text/plain": [
       "<Figure size 640x480 with 1 Axes>"
      ]
     },
     "metadata": {},
     "output_type": "display_data"
    }
   ],
   "source": [
    "# Where our sequences ends \n",
    "plt.pcolormesh(to_matrix(names[::2000]) == 56)"
   ]
  },
  {
   "cell_type": "markdown",
   "metadata": {},
   "source": [
    "There are already implemented RNN models in torch but let`s make our own model for better understanding"
   ]
  },
  {
   "cell_type": "markdown",
   "metadata": {},
   "source": [
    "Here we are using embedding to make our 1hot_vectors more informative by creating new matrix of weigths. We can see that this (matrix matmul 1hot_vector) is actually taking certain rows according to 1hot_vector. Overall embedding is converts out input into vector representation. The main advantage is we are working with low dimensional and informative vectors/matrix."
   ]
  },
  {
   "cell_type": "code",
   "execution_count": 266,
   "metadata": {},
   "outputs": [],
   "source": [
    "class CharRNNCell(nn.Module):\n",
    "    \"\"\"\n",
    "    Implement the scheme above as torch module\n",
    "    \"\"\"\n",
    "    def __init__(self, num_tokens=len(tokens), embedding_size=16, rnn_num_units=64):\n",
    "        super(self.__class__,self).__init__()\n",
    "        self.num_units = rnn_num_units\n",
    "        \n",
    "        self.embedding = nn.Embedding(num_tokens, embedding_size)\n",
    "        self.rnn_update = nn.Linear(embedding_size + rnn_num_units, rnn_num_units)\n",
    "        self.rnn_to_logits = nn.Linear(rnn_num_units, num_tokens)\n",
    "        \n",
    "    def forward(self, x, h_prev):\n",
    "        \"\"\"\n",
    "        This method computes h_next(x, h_prev) and log P(x_next | h_next)\n",
    "        We'll call it repeatedly to produce the whole sequence.\n",
    "        \n",
    "        :param x: batch of character ids, containing vector of int64\n",
    "        :param h_prev: previous rnn hidden states, containing matrix [batch, rnn_num_units] of float32\n",
    "        \"\"\"\n",
    "        # get vector embedding of x\n",
    "        x_emb = self.embedding(x)\n",
    "        \n",
    "        # compute next hidden state using self.rnn_update\n",
    "        # hint: use torch.cat(..., dim=...) for concatenation\n",
    "        x_and_h = torch.cat([x_emb, h_prev], dim = 1)\n",
    "        h_next = self.rnn_update( x_and_h )\n",
    "        h_next = torch.tanh(h_next)\n",
    "        \n",
    "        assert h_next.size() == h_prev.size()\n",
    "        \n",
    "        #compute logits for next character probs\n",
    "        logits = self.rnn_to_logits(h_next)\n",
    "        \n",
    "        # output: current state of RNN and logits to calculate loss function in the future\n",
    "        return h_next, logits\n",
    "    \n",
    "    def initial_state(self, batch_size):\n",
    "        \"\"\" return rnn state before it processes first input (aka h0) \"\"\"\n",
    "        return torch.zeros(batch_size, self.num_units, requires_grad=True)"
   ]
  },
  {
   "cell_type": "code",
   "execution_count": 267,
   "metadata": {},
   "outputs": [],
   "source": [
    "char_rnn = CharRNNCell()"
   ]
  },
  {
   "cell_type": "code",
   "execution_count": 268,
   "metadata": {},
   "outputs": [],
   "source": [
    "def rnn_loop(char_rnn, batch_ix):\n",
    "    \"\"\"\n",
    "    Computes log P(next_character) for all time-steps in names_ix\n",
    "    :param names_ix: an int32 matrix of shape [batch, time], output of to_matrix(names)\n",
    "    \"\"\"\n",
    "    batch_size, max_length = batch_ix.size()\n",
    "    hid_state = char_rnn.initial_state(batch_size)\n",
    "    logits = []\n",
    "\n",
    "    for x_t in batch_ix.transpose(0,1):\n",
    "        hid_state, logits_next = char_rnn(x_t, hid_state)  # <-- here we call your one-step code\n",
    "        logits.append(logits_next)\n",
    "        \n",
    "    return torch.stack(logits, dim=1)"
   ]
  },
  {
   "cell_type": "code",
   "execution_count": 269,
   "metadata": {},
   "outputs": [],
   "source": [
    "num_tokens = len(tokens)"
   ]
  },
  {
   "cell_type": "code",
   "execution_count": 270,
   "metadata": {},
   "outputs": [],
   "source": [
    "batch_ix = to_matrix(names[:5])\n",
    "batch_ix = torch.tensor(batch_ix, dtype=torch.int64)\n",
    "\n",
    "logit_seq = rnn_loop(char_rnn, batch_ix)\n",
    "\n",
    "# assert torch.max(logit_seq).data.numpy() <= 0\n",
    "# assert tuple(logit_seq.size()) ==  batch_ix.shape + (num_tokens,)"
   ]
  },
  {
   "cell_type": "code",
   "execution_count": 271,
   "metadata": {},
   "outputs": [
    {
     "name": "stdout",
     "output_type": "stream",
     "text": [
      "tensor(4.1200, grad_fn=<NllLossBackward0>)\n"
     ]
    }
   ],
   "source": [
    "predictions_logits = logit_seq[:, :-1]\n",
    "actual_next_tokens = batch_ix[:, 1:]\n",
    "\n",
    "# logp_next = torch.gather(predictions_logp, dim=2, index=actual_next_tokens[:,:,None])\n",
    "\n",
    "loss_func = nn.CrossEntropyLoss(ignore_index=token_to_id['_'])\n",
    "loss = loss_func(\n",
    "    predictions_logits.reshape((-1, num_tokens)),\n",
    "    actual_next_tokens.reshape(-1)\n",
    "    )\n",
    "\n",
    "print(loss)\n",
    "loss.backward()\n",
    "for w in char_rnn.parameters():\n",
    "    assert w.grad is not None and torch.max(torch.abs(w.grad)).data.numpy() != 0, \\\n",
    "        \"Loss is not differentiable w.r.t. a weight with shape %s. Check forward method.\" % (w.size(),)"
   ]
  },
  {
   "cell_type": "code",
   "execution_count": 272,
   "metadata": {},
   "outputs": [
    {
     "data": {
      "image/png": "[encoded data removed]",
      "text/plain": [
       "<Figure size 640x480 with 1 Axes>"
      ]
     },
     "metadata": {},
     "output_type": "display_data"
    }
   ],
   "source": [
    "from IPython.display import clear_output\n",
    "from random import sample\n",
    "\n",
    "char_rnn = CharRNNCell()\n",
    "opt = torch.optim.Adam(char_rnn.parameters())\n",
    "history = []\n",
    "MAX_LENGTH = 16\n",
    "\n",
    "for i in range(1000):\n",
    "    batch_ix = to_matrix(sample(names, 32), max_len=MAX_LENGTH)\n",
    "    batch_ix = torch.tensor(batch_ix, dtype=torch.int64)\n",
    "    \n",
    "    logp_seq = rnn_loop(char_rnn, batch_ix)\n",
    "    \n",
    "    # compute loss\n",
    "    predictions_logp = logp_seq[:, : -1]\n",
    "    actual_next_tokens = batch_ix[:, 1 :]\n",
    "\n",
    "    loss = loss_func(\n",
    "    predictions_logp.reshape((-1, num_tokens)),\n",
    "    actual_next_tokens.reshape(-1)\n",
    "    )\n",
    "\n",
    "    loss.backward()\n",
    "    opt.step()\n",
    "    opt.zero_grad()\n",
    "    \n",
    "    # vusialization\n",
    "    history.append(loss.data.numpy())\n",
    "    if (i+1)%100==0:\n",
    "        clear_output(True)\n",
    "        plt.plot(history,label='loss')\n",
    "        plt.legend()\n",
    "        plt.show()\n",
    "\n",
    "assert np.mean(history[:10]) > np.mean(history[-10:]), \"RNN didn't converge.\""
   ]
  },
  {
   "cell_type": "markdown",
   "metadata": {},
   "source": [
    "# Generating new names"
   ]
  },
  {
   "cell_type": "code",
   "execution_count": 273,
   "metadata": {},
   "outputs": [],
   "source": [
    "def generate_sample(char_rnn, seed_phrase='<', max_length=MAX_LENGTH, temperature=1.0):\n",
    "    '''\n",
    "    The function generates text given a phrase of length at least SEQ_LENGTH.\n",
    "    :param seed_phrase: prefix characters. The RNN is asked to continue the phrase\n",
    "    :param max_length: maximum output length, including seed_phrase\n",
    "    :param temperature: coefficient for sampling.  higher temperature produces more chaotic outputs,\n",
    "                        smaller temperature converges to the single most likely output\n",
    "    '''\n",
    "    \n",
    "    x_sequence = [token_to_id[token] for token in seed_phrase]\n",
    "    x_sequence = torch.tensor([x_sequence], dtype=torch.int64)\n",
    "    hid_state = char_rnn.initial_state(batch_size=1)\n",
    "    \n",
    "    #feed the seed phrase, if any\n",
    "    for i in range(len(seed_phrase) - 1):\n",
    "        hid_state, _ = char_rnn(x_sequence[:, i], hid_state)\n",
    "    \n",
    "    #start generating\n",
    "    for _ in range(max_length - len(seed_phrase)):\n",
    "        hid_state, logits_next = char_rnn(x_sequence[:, -1], hid_state)\n",
    "        p_next = F.softmax(logits_next / temperature, dim=-1).data.numpy()[0]\n",
    "        \n",
    "        # sample next token and push it back into x_sequence\n",
    "        next_ix = np.random.choice(num_tokens, p=p_next)\n",
    "        next_ix = torch.tensor([[next_ix]], dtype=torch.int64)\n",
    "        x_sequence = torch.cat([x_sequence, next_ix], dim=1)\n",
    "        if next_ix == token_to_id['>']:\n",
    "          break\n",
    "    return ''.join([tokens[ix] for ix in x_sequence.data.numpy()[0]])"
   ]
  },
  {
   "cell_type": "code",
   "execution_count": 274,
   "metadata": {},
   "outputs": [
    {
     "data": {
      "text/plain": [
       "<BarContainer object of 6 artists>"
      ]
     },
     "execution_count": 274,
     "metadata": {},
     "output_type": "execute_result"
    },
    {
     "data": {
      "image/png": "[encoded data removed]",
      "text/plain": [
       "<Figure size 640x480 with 1 Axes>"
      ]
     },
     "metadata": {},
     "output_type": "display_data"
    }
   ],
   "source": [
    "# Temperature\n",
    "def softmax(x, temp=1.):\n",
    "    exps = np.exp((x - x.max()) / temp)\n",
    "    return exps / exps.sum()\n",
    "\n",
    "plt.bar(np.arange(6), softmax(np.array([1, 3 , 4, 5, 9, 12]), 10))"
   ]
  },
  {
   "cell_type": "code",
   "execution_count": 275,
   "metadata": {},
   "outputs": [
    {
     "name": "stdout",
     "output_type": "stream",
     "text": [
      "qaalon\n",
      "Taroilod\n",
      "Olein\n",
      "Sarda\n",
      "Japly\n",
      "Mabmath\n",
      "Oryrey\n",
      "Mrdine\n",
      "Jilly\n",
      "Douor\n"
     ]
    }
   ],
   "source": [
    "for _ in range(10):\n",
    "    print(generate_sample(char_rnn)[1:-1])"
   ]
  },
  {
   "cell_type": "code",
   "execution_count": 276,
   "metadata": {},
   "outputs": [
    {
     "name": "stdout",
     "output_type": "stream",
     "text": [
      "Marina\n",
      "Marie\n",
      "Alis\n",
      "Corine\n",
      "Sharie\n",
      "Barina\n",
      "Sherine\n",
      "Carie\n",
      "Allin\n",
      "Carie\n"
     ]
    }
   ],
   "source": [
    "for _ in range(10):\n",
    "    print(generate_sample(char_rnn, temperature=0.15)[1:-1])"
   ]
  },
  {
   "cell_type": "code",
   "execution_count": 277,
   "metadata": {},
   "outputs": [
    {
     "name": "stdout",
     "output_type": "stream",
     "text": [
      "XCxnployPysBit\n",
      "jaEVcttyCumIKO\n",
      "ApwinG-buriiVq\n",
      "YXAjlhtXrzbGbX\n",
      "nLCiVNPdmxSY<C\n",
      "vel\n",
      "OGMwzoyodTtnjt\n",
      "-DJSimDFalfmyD\n",
      "gdZYAPPs<f<awh\n",
      "FjPczJNniXWaFp\n"
     ]
    }
   ],
   "source": [
    "for _ in range(10):\n",
    "    print(generate_sample(char_rnn, temperature=8)[1:-1])"
   ]
  },
  {
   "cell_type": "code",
   "execution_count": 278,
   "metadata": {},
   "outputs": [
    {
     "name": "stdout",
     "output_type": "stream",
     "text": [
      "Ramona\n",
      "Ramie\n",
      "Ramanar\n",
      "Ramon\n",
      "Ramanie\n",
      "Ramiselone\n",
      "Ramelma\n",
      "Rampir\n",
      "Ramy\n",
      "Ramone\n",
      "Ramisa\n",
      "Ramyna\n",
      "Ramonna\n",
      "Ramzoe\n",
      "Ramina\n"
     ]
    }
   ],
   "source": [
    "for _ in range(15):\n",
    "    print(generate_sample(char_rnn, seed_phrase='<Ram')[1:-1])"
   ]
  }
 ],
 "metadata": {
  "kernelspec": {
   "display_name": "Python 3",
   "language": "python",
   "name": "python3"
  },
  "language_info": {
   "codemirror_mode": {
    "name": "ipython",
    "version": 3
   },
   "file_extension": ".py",
   "mimetype": "text/x-python",
   "name": "python",
   "nbconvert_exporter": "python",
   "pygments_lexer": "ipython3",
   "version": "3.11.1"
  }
 },
 "nbformat": 4,
 "nbformat_minor": 2
}
