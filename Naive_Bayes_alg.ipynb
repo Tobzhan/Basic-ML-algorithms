{
 "cells": [
  {
   "cell_type": "code",
   "execution_count": 12,
   "metadata": {},
   "outputs": [],
   "source": [
    "import matplotlib.pyplot as plt\n",
    "import numpy as np\n",
    "import pandas as pd\n",
    "import seaborn as sns\n",
    "from sklearn import linear_model\n",
    "from sklearn.datasets import load_breast_cancer"
   ]
  },
  {
   "cell_type": "markdown",
   "metadata": {},
   "source": [
    "# The naive Bayes algorithm\n",
    "Bayes Theorem is a fundamental theorem in probability and statistics, and it helps us calculate probabilities\n",
    "<br/>\n",
    "<img src=\"Bayes.png\" width=\"600\" height=\"200\">\n",
    "<br/>\n",
    "* The main concept is using previous data for calculating new probability.\n",
    "* Bayes theorem consists in calculating a posterior probability, based on a prior\n",
    "probability and an event.\n",
    "* The interesting thing about Naive Bayes that it does not have loss function, optimization function or activation function.\n",
    "* The naive Bayes algorithm is used when one wants to combine a prior probability\n",
    "together with several events.\n",
    "* The word ‘naive’ comes from the fact that we are making a naive assumption, namely,\n",
    "that the events in question are all independent.\n"
   ]
  },
  {
   "cell_type": "code",
   "execution_count": 15,
   "metadata": {},
   "outputs": [
    {
     "data": {
      "text/html": [
       "<div>\n",
       "<style scoped>\n",
       "    .dataframe tbody tr th:only-of-type {\n",
       "        vertical-align: middle;\n",
       "    }\n",
       "\n",
       "    .dataframe tbody tr th {\n",
       "        vertical-align: top;\n",
       "    }\n",
       "\n",
       "    .dataframe thead th {\n",
       "        text-align: right;\n",
       "    }\n",
       "</style>\n",
       "<table border=\"1\" class=\"dataframe\">\n",
       "  <thead>\n",
       "    <tr style=\"text-align: right;\">\n",
       "      <th></th>\n",
       "      <th>0</th>\n",
       "    </tr>\n",
       "  </thead>\n",
       "  <tbody>\n",
       "    <tr>\n",
       "      <th>0</th>\n",
       "      <td>0</td>\n",
       "    </tr>\n",
       "    <tr>\n",
       "      <th>19</th>\n",
       "      <td>1</td>\n",
       "    </tr>\n",
       "  </tbody>\n",
       "</table>\n",
       "</div>"
      ],
      "text/plain": [
       "    0\n",
       "0   0\n",
       "19  1"
      ]
     },
     "execution_count": 15,
     "metadata": {},
     "output_type": "execute_result"
    }
   ],
   "source": [
    "data = load_breast_cancer()\n",
    "features = pd.DataFrame( data.data, columns = data.feature_names)\n",
    "target = pd.DataFrame( data.target )\n",
    "target.drop_duplicates(0)"
   ]
  },
  {
   "cell_type": "code",
   "execution_count": 52,
   "metadata": {},
   "outputs": [
    {
     "data": {
      "text/plain": [
       "array([[0.52103744, 0.0226581 , 0.54598853, ..., 0.91202749, 0.59846245,\n",
       "        0.41886396],\n",
       "       [0.64314449, 0.27257355, 0.61578329, ..., 0.63917526, 0.23358959,\n",
       "        0.22287813],\n",
       "       [0.60149557, 0.3902604 , 0.59574321, ..., 0.83505155, 0.40370589,\n",
       "        0.21343303],\n",
       "       ...,\n",
       "       [0.45525108, 0.62123774, 0.44578813, ..., 0.48728522, 0.12872068,\n",
       "        0.1519087 ],\n",
       "       [0.64456434, 0.66351031, 0.66553797, ..., 0.91065292, 0.49714173,\n",
       "        0.45231536],\n",
       "       [0.03686876, 0.50152181, 0.02853984, ..., 0.        , 0.25744136,\n",
       "        0.10068215]])"
      ]
     },
     "execution_count": 52,
     "metadata": {},
     "output_type": "execute_result"
    }
   ],
   "source": [
    "# Scaling features in order to be able to binarize them after using threshold\n",
    "from sklearn.preprocessing import MinMaxScaler\n",
    "scaler = MinMaxScaler()\n",
    "scaled_features = scaler.fit_transform(features)\n",
    "scaled_features"
   ]
  },
  {
   "cell_type": "code",
   "execution_count": 75,
   "metadata": {},
   "outputs": [
    {
     "data": {
      "text/plain": [
       "array([1, 0, 0, 0, 1, 1, 0, 1, 0, 1, 1, 1, 1, 1, 1, 1, 1, 1, 0, 1, 1, 1,\n",
       "       1, 1, 1, 1, 1, 1, 0, 1, 1, 1, 1, 1, 1, 0, 1, 1, 1, 0, 1, 0, 1, 1,\n",
       "       1, 1, 1, 0, 1, 1, 1, 1, 0, 1, 1, 1, 1, 0, 1, 1, 0, 1, 0, 1, 1, 1,\n",
       "       0, 1, 1, 1, 1, 0, 0, 1, 1, 1, 1, 0, 1, 1, 1, 0, 1, 1, 1, 0, 1, 1,\n",
       "       1, 0, 0, 1, 1, 1, 1, 1, 0, 1, 1, 1, 0, 1, 1, 1, 1, 1, 1, 1, 1, 1,\n",
       "       1, 0, 1, 1, 1, 1, 1, 1, 1, 0, 0, 1, 0, 1, 0, 1, 1, 0, 0, 1, 1, 1,\n",
       "       1, 0, 1, 1, 1, 1, 0, 0, 1, 1, 0, 1, 1, 1, 1, 1, 1, 1, 1, 0, 1, 1,\n",
       "       1, 0, 1, 1, 1, 0, 1, 1, 1, 1, 1, 0, 1, 0, 1, 1, 1])"
      ]
     },
     "execution_count": 75,
     "metadata": {},
     "output_type": "execute_result"
    }
   ],
   "source": [
    "from sklearn import naive_bayes\n",
    "\n",
    "# In sklearn there are a lot of implementations of NB\n",
    "# Bernoulli Naive Bayes classifier is designed for binary/boolean features\n",
    "# The Multinomial Naive Bayes classifier is suitable for classification with discrete features\n",
    "# The Categorical Naive Bayes classifier is suitable for classification with discrete features that are categorically distribute\n",
    "# The Complement Naive Bayes classifier was designed to correct the “severe assumptions” made by the standard Multinomial Naive Bayes classifier. It is particularly suited for imbalanced data sets.\n",
    "\n",
    "# We can use will Multinomial Naive Bayes because our features are discrete but we can try also use bernoulli using binarization \n",
    "\n",
    "from sklearn.model_selection import train_test_split\n",
    "X_train, X_test, y_train, y_test = train_test_split( scaled_features, target.to_numpy().ravel(), random_state= 65, train_size=0.7 )\n",
    "\n",
    "# Binarize - parameter that transorms features into 1 if it is above threshold or 0 otherwise\n",
    "# BernoulliNB requires features to be boolean - 0 or 1. So in order to create working model we need to firstly nomalize features and secondly set threshold for binarize parameter\n",
    "\n",
    "model_mult = naive_bayes.MultinomialNB( force_alpha= True ).fit( X_train, y_train )\n",
    "\n",
    "model_mult.predict( X_test ) "
   ]
  },
  {
   "cell_type": "code",
   "execution_count": 84,
   "metadata": {},
   "outputs": [
    {
     "data": {
      "image/png": "[encoded data removed]",
      "text/plain": [
       "<Figure size 640x480 with 2 Axes>"
      ]
     },
     "metadata": {},
     "output_type": "display_data"
    }
   ],
   "source": [
    "from sklearn.metrics import confusion_matrix, ConfusionMatrixDisplay\n",
    "\n",
    "y_pred_mult = model_mult.predict( X_test )\n",
    "# Confusion matrix is great tool for observing the predicted results of model \n",
    "cm = confusion_matrix(y_test, y_pred_mult)\n",
    "types = [0, 1]\n",
    "disp = ConfusionMatrixDisplay(confusion_matrix=cm, display_labels=types)\n",
    "\n",
    "disp.plot()\n",
    "plt.title('Confusion matrix for 3 classes')\n",
    "plt.show()"
   ]
  },
  {
   "cell_type": "code",
   "execution_count": 85,
   "metadata": {},
   "outputs": [
    {
     "name": "stdout",
     "output_type": "stream",
     "text": [
      "Accuracy = 0.81, Precision = 0.85, Recall = 0.81, F1_Score = 0.83\n",
      "score_accuracy = 0.8128654970760234\n"
     ]
    }
   ],
   "source": [
    "from sklearn.metrics import accuracy_score, precision_score, recall_score\n",
    "\n",
    "#metrics\n",
    "def metrics( cm, y_pred, y_test ):\n",
    "    # Accuracy is used to measure the performance of the model. It is the ratio of Total correct instances to the total instances. \n",
    "    accuracy = accuracy_score( y_test, y_pred )\n",
    "\n",
    "    # Precision is a measure of how accurate a model’s positive predictions are\n",
    "    precision = precision_score( y_test, y_pred, average='weighted' )\n",
    "\n",
    "    # Recall measures the effectiveness of a classification model in identifying all relevant instances from a dataset\n",
    "    recall = recall_score( y_test, y_pred, average='weighted' )\n",
    "\n",
    "    # F1-score is used to evaluate the overall performance of a classification model\n",
    "    f1_score = (2 * precision * recall) / (precision + recall)\n",
    "\n",
    "    print( \"Accuracy = {:.2f}, Precision = {:.2f}, Recall = {:.2f}, F1_Score = {:.2f}\" \\\n",
    "          .format(accuracy, precision, recall, f1_score))\n",
    "\n",
    "metrics (cm, y_pred_mult, y_test)\n",
    "print( \"score_accuracy = {}\".format(model_mult.score( X_test, y_test)))"
   ]
  },
  {
   "cell_type": "code",
   "execution_count": 78,
   "metadata": {},
   "outputs": [
    {
     "data": {
      "text/plain": [
       "array([1, 0, 0, 0, 1, 1, 0, 1, 1, 1, 1, 1, 1, 1, 1, 1, 1, 0, 0, 1, 1, 0,\n",
       "       1, 1, 1, 1, 1, 1, 0, 1, 1, 1, 0, 1, 1, 0, 1, 1, 1, 0, 1, 0, 1, 1,\n",
       "       0, 1, 1, 0, 1, 1, 1, 1, 0, 1, 1, 1, 0, 0, 1, 1, 0, 1, 0, 1, 1, 1,\n",
       "       0, 1, 1, 1, 0, 0, 1, 1, 0, 1, 1, 0, 1, 1, 0, 0, 1, 1, 1, 0, 1, 1,\n",
       "       0, 0, 0, 1, 1, 0, 1, 1, 0, 1, 1, 1, 0, 1, 1, 1, 1, 1, 1, 1, 1, 1,\n",
       "       1, 0, 1, 1, 1, 0, 1, 1, 1, 1, 0, 1, 1, 1, 0, 0, 1, 0, 0, 0, 1, 1,\n",
       "       1, 0, 1, 1, 1, 0, 0, 0, 1, 1, 0, 1, 1, 1, 1, 1, 0, 1, 1, 0, 1, 0,\n",
       "       1, 0, 1, 1, 0, 0, 1, 1, 1, 1, 1, 0, 1, 0, 1, 1, 0])"
      ]
     },
     "execution_count": 78,
     "metadata": {},
     "output_type": "execute_result"
    }
   ],
   "source": [
    "# Binarize - parameter that transorms features into 1 if it is above threshold or 0 otherwise\n",
    "# BernoulliNB requires features to be boolean - 0 or 1. So in order to create working model we need to firstly nomalize features and secondly set threshold for binarize parameter\n",
    "model_Bern = naive_bayes.BernoulliNB( force_alpha= True , binarize=0.5 ).fit( X_train, y_train )\n",
    "\n",
    "\n",
    "model_Bern.predict( X_test ) "
   ]
  },
  {
   "cell_type": "code",
   "execution_count": 86,
   "metadata": {},
   "outputs": [
    {
     "data": {
      "image/png": "[encoded data removed]",
      "text/plain": [
       "<Figure size 640x480 with 2 Axes>"
      ]
     },
     "metadata": {},
     "output_type": "display_data"
    }
   ],
   "source": [
    "y_pred_bern = model_Bern.predict( X_test )\n",
    "\n",
    "# Confusion matrix is great tool for observing the predicted results of model \n",
    "cm = confusion_matrix(y_test, y_pred_bern)\n",
    "types = [0, 1]\n",
    "disp = ConfusionMatrixDisplay(confusion_matrix=cm, display_labels=types)\n",
    "\n",
    "disp.plot()\n",
    "plt.title('Confusion matrix for 3 classes')\n",
    "plt.show()"
   ]
  },
  {
   "cell_type": "code",
   "execution_count": 88,
   "metadata": {},
   "outputs": [
    {
     "name": "stdout",
     "output_type": "stream",
     "text": [
      "Accuracy = 0.88, Precision = 0.89, Recall = 0.88, F1_Score = 0.89\n",
      "score_accuracy = 0.8830409356725146\n"
     ]
    }
   ],
   "source": [
    "#metrics\n",
    "metrics (cm, y_pred_bern, y_test)\n",
    "print( \"score_accuracy = {}\".format(model_Bern.score( X_test, y_test)))"
   ]
  }
 ],
 "metadata": {
  "kernelspec": {
   "display_name": "Python 3",
   "language": "python",
   "name": "python3"
  },
  "language_info": {
   "codemirror_mode": {
    "name": "ipython",
    "version": 3
   },
   "file_extension": ".py",
   "mimetype": "text/x-python",
   "name": "python",
   "nbconvert_exporter": "python",
   "pygments_lexer": "ipython3",
   "version": "3.11.1"
  }
 },
 "nbformat": 4,
 "nbformat_minor": 2
}
