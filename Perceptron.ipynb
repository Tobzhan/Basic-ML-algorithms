{
 "cells": [
  {
   "cell_type": "markdown",
   "metadata": {},
   "source": [
    "A perceptron is a classification model which consists of a set of weights, or scores, and a\n",
    "bias. The perceptron calculates a score by adding the products of the weights and scores, plus the bias. If this\n",
    "score is greater than or equal to zero, the perceptron returns a ‘true’ or a value of 1. If the score is negative, the\n",
    "perceptron returns a ‘false’ or a value of 0."
   ]
  },
  {
   "cell_type": "markdown",
   "metadata": {},
   "source": [
    "We can use perceptron for multiclass classification but it is better practice to use more advanced models for this task because in our case it will create perceptron for each category."
   ]
  },
  {
   "cell_type": "code",
   "execution_count": 2,
   "metadata": {},
   "outputs": [],
   "source": [
    "from sklearn.datasets import load_breast_cancer\n",
    "import pandas as pd\n",
    "import matplotlib.pyplot as plt"
   ]
  },
  {
   "cell_type": "code",
   "execution_count": 3,
   "metadata": {},
   "outputs": [
    {
     "name": "stdout",
     "output_type": "stream",
     "text": [
      "569\n"
     ]
    }
   ],
   "source": [
    "data = load_breast_cancer()\n",
    "features = pd.DataFrame( data.data, columns = data.feature_names )\n",
    "features.head(5)\n",
    "target = pd.DataFrame( data.target )\n",
    "\n",
    "if len(features) == len(target): print( len(features) )"
   ]
  },
  {
   "cell_type": "code",
   "execution_count": 4,
   "metadata": {},
   "outputs": [],
   "source": [
    "from sklearn.preprocessing import StandardScaler\n",
    "# Normilizing data for better results\n",
    "\n",
    "#Min-Max Scaling (scales the data to a specific range, typically between 0 and 1)\n",
    "#Standard Scaling (scales the data to have a mean of 0 and a standard deviation of 1)\n",
    "scaler = StandardScaler()\n",
    "features_normalized = scaler.fit_transform( features )"
   ]
  },
  {
   "cell_type": "code",
   "execution_count": 5,
   "metadata": {},
   "outputs": [
    {
     "name": "stdout",
     "output_type": "stream",
     "text": [
      "Not normalized score_accuracy = 0.9005847953216374\n",
      "Normalized score_accuracy = 0.9707602339181286\n"
     ]
    }
   ],
   "source": [
    "# In sklearn, implementation of Perceptron is very simillar to the SGDclassifier\n",
    "from sklearn.linear_model import Perceptron\n",
    "from sklearn.model_selection import train_test_split\n",
    "def training_Perceptron( features, target ):\n",
    "    X_train, X_test, y_train, y_test = train_test_split( features, target.to_numpy().ravel(), shuffle=True, random_state= 2, train_size=0.7 )\n",
    "\n",
    "    #will iterate till loss > previous_loss - tol\n",
    "    model = Perceptron().fit( X_train, y_train )\n",
    "\n",
    "    # In sklearn method .score calculates R^2 score for regression models and accuracy for classification models\n",
    "    return model.score( X_test, y_test )\n",
    "\n",
    " # Calculating score for normalized and not normalized features\n",
    "print( \"Not normalized score_accuracy = {}\".format(training_Perceptron( features, target ) ))\n",
    "print( \"Normalized score_accuracy = {}\".format(training_Perceptron( features_normalized, target ) ))"
   ]
  },
  {
   "cell_type": "markdown",
   "metadata": {},
   "source": [
    "We need to remember that Perceptron is linear model that tries to create hyperplane that ideally divides data into two groups."
   ]
  }
 ],
 "metadata": {
  "kernelspec": {
   "display_name": "Python 3",
   "language": "python",
   "name": "python3"
  },
  "language_info": {
   "codemirror_mode": {
    "name": "ipython",
    "version": 3
   },
   "file_extension": ".py",
   "mimetype": "text/x-python",
   "name": "python",
   "nbconvert_exporter": "python",
   "pygments_lexer": "ipython3",
   "version": "3.11.1"
  }
 },
 "nbformat": 4,
 "nbformat_minor": 2
}
