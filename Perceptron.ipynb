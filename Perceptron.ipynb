{
 "cells": [
  {
   "cell_type": "markdown",
   "metadata": {},
   "source": [
    "A perceptron is a classification model which consists of a set of weights, or scores, and a\n",
    "bias. The perceptron calculates a score by adding the products of the weights and scores, plus the bias. If this\n",
    "score is greater than or equal to zero, the perceptron returns a ‘true’ or a value of 1. If the score is negative, the\n",
    "perceptron returns a ‘false’ or a value of 0."
   ]
  },
  {
   "cell_type": "markdown",
   "metadata": {},
   "source": [
    "We can use perceptron for multiclass classification but it is better practice to use more advanced models for this task because in our case it will create perceptron for each category."
   ]
  },
  {
   "cell_type": "code",
   "execution_count": 4,
   "metadata": {},
   "outputs": [],
   "source": [
    "from sklearn.datasets import load_breast_cancer\n",
    "import pandas as pd\n",
    "import matplotlib.pyplot as plt"
   ]
  },
  {
   "cell_type": "code",
   "execution_count": 12,
   "metadata": {},
   "outputs": [
    {
     "name": "stdout",
     "output_type": "stream",
     "text": [
      "569\n"
     ]
    }
   ],
   "source": [
    "data = load_breast_cancer()\n",
    "features = pd.DataFrame( data.data, columns = data.feature_names )\n",
    "features.head(5)\n",
    "target = pd.DataFrame( data.target )\n",
    "\n",
    "if len(features) == len(target): print( len(features) )"
   ]
  },
  {
   "cell_type": "code",
   "execution_count": 19,
   "metadata": {},
   "outputs": [
    {
     "data": {
      "text/plain": [
       "array([[ 1.09706398, -2.07333501,  1.26993369, ...,  2.29607613,\n",
       "         2.75062224,  1.93701461],\n",
       "       [ 1.82982061, -0.35363241,  1.68595471, ...,  1.0870843 ,\n",
       "        -0.24388967,  0.28118999],\n",
       "       [ 1.57988811,  0.45618695,  1.56650313, ...,  1.95500035,\n",
       "         1.152255  ,  0.20139121],\n",
       "       ...,\n",
       "       [ 0.70228425,  2.0455738 ,  0.67267578, ...,  0.41406869,\n",
       "        -1.10454895, -0.31840916],\n",
       "       [ 1.83834103,  2.33645719,  1.98252415, ...,  2.28998549,\n",
       "         1.91908301,  2.21963528],\n",
       "       [-1.80840125,  1.22179204, -1.81438851, ..., -1.74506282,\n",
       "        -0.04813821, -0.75120669]])"
      ]
     },
     "execution_count": 19,
     "metadata": {},
     "output_type": "execute_result"
    }
   ],
   "source": [
    "from sklearn.preprocessing import StandardScaler\n",
    "# Normilizing data for better results\n",
    "\n",
    "#Min-Max Scaling (scales the data to a specific range, typically between 0 and 1)\n",
    "#Standard Scaling (scales the data to have a mean of 0 and a standard deviation of 1)\n",
    "scaler = StandardScaler()\n",
    "features_normalized = scaler.fit_transform( features )"
   ]
  },
  {
   "cell_type": "code",
   "execution_count": 35,
   "metadata": {},
   "outputs": [
    {
     "name": "stdout",
     "output_type": "stream",
     "text": [
      "Not normalized score_accuracy = 0.9005847953216374\n",
      "Normalized score_accuracy = 0.9707602339181286\n"
     ]
    },
    {
     "name": "stderr",
     "output_type": "stream",
     "text": [
      "c:\\Users\\Aziz\\AppData\\Local\\Programs\\Python\\Python311\\Lib\\site-packages\\sklearn\\utils\\validation.py:1183: DataConversionWarning: A column-vector y was passed when a 1d array was expected. Please change the shape of y to (n_samples, ), for example using ravel().\n",
      "  y = column_or_1d(y, warn=True)\n",
      "c:\\Users\\Aziz\\AppData\\Local\\Programs\\Python\\Python311\\Lib\\site-packages\\sklearn\\utils\\validation.py:1183: DataConversionWarning: A column-vector y was passed when a 1d array was expected. Please change the shape of y to (n_samples, ), for example using ravel().\n",
      "  y = column_or_1d(y, warn=True)\n"
     ]
    }
   ],
   "source": [
    "# In sklearn, implementation of Perceptron is very simillar to the SGDclassifier\n",
    "from sklearn.linear_model import Perceptron\n",
    "from sklearn.model_selection import train_test_split\n",
    "def training_Perceptron( features, target ):\n",
    "    X_train, X_test, y_train, y_test = train_test_split( features, target, shuffle=True, random_state= 2, train_size=0.7 )\n",
    "\n",
    "    #will iterate till loss > previous_loss - tol\n",
    "    model = Perceptron().fit( X_train, y_train )\n",
    "\n",
    "    # In sklearn method .score calculates R^2 score for regression models and accuracy for classification models\n",
    "    return model.score( X_test, y_test )\n",
    "\n",
    " # Calculating score for normalized and not normalized features\n",
    "print( \"Not normalized score_accuracy = {}\".format(training_Perceptron( features, target ) ))\n",
    "print( \"Normalized score_accuracy = {}\".format(training_Perceptron( features_normalized, target ) ))"
   ]
  },
  {
   "cell_type": "markdown",
   "metadata": {},
   "source": [
    "We need to remember that Perceptron is linear model that tries to create hyperplane that ideally divides data into two groups."
   ]
  }
 ],
 "metadata": {
  "kernelspec": {
   "display_name": "Python 3",
   "language": "python",
   "name": "python3"
  },
  "language_info": {
   "codemirror_mode": {
    "name": "ipython",
    "version": 3
   },
   "file_extension": ".py",
   "mimetype": "text/x-python",
   "name": "python",
   "nbconvert_exporter": "python",
   "pygments_lexer": "ipython3",
   "version": "3.11.1"
  }
 },
 "nbformat": 4,
 "nbformat_minor": 2
}
